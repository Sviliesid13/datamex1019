{
 "cells": [
  {
   "cell_type": "code",
   "execution_count": 52,
   "metadata": {},
   "outputs": [],
   "source": [
    "# Importo todas las librerías\n",
    "\n",
    "import pandas as pd\n",
    "import numpy as np\n",
    "import folium\n",
    "from folium import plugins\n",
    "import pymongo\n",
    "from pymongo import MongoClient\n",
    "from pandas.io.json import json_normalize"
   ]
  },
  {
   "cell_type": "code",
   "execution_count": 27,
   "metadata": {},
   "outputs": [],
   "source": [
    "# Aquí llamo a la base de datos y a la colección de companies\n",
    "\n",
    "client = pymongo.MongoClient('mongodb://localhost:27017/')\n",
    "db = client.companies\n",
    "collection_companies = db.companies"
   ]
  },
  {
   "cell_type": "code",
   "execution_count": 28,
   "metadata": {},
   "outputs": [],
   "source": [
    "# Aquí creo mi primer query en la cual busco únicamente empresas que tengan un giro financiero\n",
    "\n",
    "query_dict = list(collection_companies.find({'category_code': 'finance'}))"
   ]
  },
  {
   "cell_type": "code",
   "execution_count": 29,
   "metadata": {},
   "outputs": [],
   "source": [
    "# Aquí creo una nueva base de datos y una nueva colección\n",
    "\n",
    "client2 = pymongo.MongoClient('mongodb://localhost:27017/')\n",
    "db2 = client2.finance_db\n",
    "collection_finance = db2.finance_collection"
   ]
  },
  {
   "cell_type": "code",
   "execution_count": 30,
   "metadata": {},
   "outputs": [
    {
     "data": {
      "text/plain": [
       "<pymongo.results.InsertManyResult at 0x11bcaeb40>"
      ]
     },
     "execution_count": 30,
     "metadata": {},
     "output_type": "execute_result"
    }
   ],
   "source": [
    "# Aquí inserto mi query a la nueva colección\n",
    "\n",
    "collection_finance.insert_many(query_dict)"
   ]
  },
  {
   "cell_type": "code",
   "execution_count": 137,
   "metadata": {},
   "outputs": [],
   "source": [
    "# En esta celda creo un DataFrame con origen de una Query. La Query en primera instancia no podía ser normalizada por json_normalize ya que era una lista de listas de dicionarios, por lo tanto use una list comprehension para crear la lista de diccionarios y poder llegar a un DataFrame con las coordenadas y el nombre de la empresa\n",
    "\n",
    "df = pd.DataFrame(collection_finance.find({}, {'name': 1, 'offices.latitude': 1, 'offices.longitude': 1, '_id': 0}))\n",
    "lst = [df.offices[i][0] for i in range(len(df.offices))]\n",
    "array = np.asarray(lst)\n",
    "df.offices = array\n",
    "df2 = json_normalize(df.offices)\n",
    "df2['name'] = df['name']\n",
    "df2 = df2[['name', 'latitude', 'longitude']]\n",
    "df3 = df2.dropna().reset_index(drop=True)"
   ]
  },
  {
   "cell_type": "code",
   "execution_count": 160,
   "metadata": {
    "scrolled": true
   },
   "outputs": [],
   "source": [
    "# Aquí creo un mapa y luego un loop que agregue marcadores para cada una de las empresas con etiqueta\n",
    "\n",
    "mapa = folium.Map()\n",
    "for i in range(len(df3.latitude)):\n",
    "    folium.CircleMarker([df3.latitude[i], df3.longitude[i]]).add_child(folium.Popup(df3['name'][i])).add_to(mapa)"
   ]
  },
  {
   "cell_type": "code",
   "execution_count": 161,
   "metadata": {},
   "outputs": [],
   "source": [
    "# En este último paso agrego un marcador con etiqueta con la decisión final del lugar ideal para establecer la startup\n",
    "\n",
    "folium.Marker([40.78343, -73.96625], icon=folium.Icon(color='green')).add_child(folium.Popup('Ideal spot for office')).add_to(mapa)\n",
    "mapa.save('office.html')"
   ]
  }
 ],
 "metadata": {
  "kernelspec": {
   "display_name": "Python 3",
   "language": "python",
   "name": "python3"
  },
  "language_info": {
   "codemirror_mode": {
    "name": "ipython",
    "version": 3
   },
   "file_extension": ".py",
   "mimetype": "text/x-python",
   "name": "python",
   "nbconvert_exporter": "python",
   "pygments_lexer": "ipython3",
   "version": "3.7.5"
  }
 },
 "nbformat": 4,
 "nbformat_minor": 2
}
